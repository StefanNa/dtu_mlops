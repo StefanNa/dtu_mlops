{
 "cells": [
  {
   "cell_type": "markdown",
   "metadata": {},
   "source": [
    "# Training Neural Networks\n",
    "\n",
    "The network we built in the previous part isn't so smart, it doesn't know anything about our handwritten digits. Neural networks with non-linear activations work like universal function approximators. There is some function that maps your input to the output. For example, images of handwritten digits to class probabilities. The power of neural networks is that we can train them to approximate this function, and basically any function given enough data and compute time.\n",
    "\n",
    "<img src=\"assets/function_approx.png\" width=500px>\n",
    "\n",
    "At first the network is naive, it doesn't know the function mapping the inputs to the outputs. We train the network by showing it examples of real data, then adjusting the network parameters such that it approximates this function.\n",
    "\n",
    "To find these parameters, we need to know how poorly the network is predicting the real outputs. For this we calculate a **loss function** (also called the cost), a measure of our prediction error. For example, the mean squared loss is often used in regression and binary classification problems\n",
    "\n",
    "$$\n",
    "\\large \\ell = \\frac{1}{2n}\\sum_i^n{\\left(y_i - \\hat{y}_i\\right)^2}\n",
    "$$\n",
    "\n",
    "where $n$ is the number of training examples, $y_i$ are the true labels, and $\\hat{y}_i$ are the predicted labels.\n",
    "\n",
    "By minimizing this loss with respect to the network parameters, we can find configurations where the loss is at a minimum and the network is able to predict the correct labels with high accuracy. We find this minimum using a process called **gradient descent**. The gradient is the slope of the loss function and points in the direction of fastest change. To get to the minimum in the least amount of time, we then want to follow the gradient (downwards). You can think of this like descending a mountain by following the steepest slope to the base.\n",
    "\n",
    "<img src='assets/gradient_descent.png' width=350px>"
   ]
  },
  {
   "cell_type": "markdown",
   "metadata": {},
   "source": [
    "## Backpropagation\n",
    "\n",
    "For single layer networks, gradient descent is straightforward to implement. However, it's more complicated for deeper, multilayer neural networks like the one we've built. Complicated enough that it took about 30 years before researchers figured out how to train multilayer networks.\n",
    "\n",
    "Training multilayer networks is done through **backpropagation** which is really just an application of the chain rule from calculus. It's easiest to understand if we convert a two layer network into a graph representation.\n",
    "\n",
    "<img src='assets/backprop_diagram.png' width=550px>\n",
    "\n",
    "In the forward pass through the network, our data and operations go from bottom to top here. We pass the input $x$ through a linear transformation $L_1$ with weights $W_1$ and biases $b_1$. The output then goes through the sigmoid operation $S$ and another linear transformation $L_2$. Finally we calculate the loss $\\ell$. We use the loss as a measure of how bad the network's predictions are. The goal then is to adjust the weights and biases to minimize the loss.\n",
    "\n",
    "To train the weights with gradient descent, we propagate the gradient of the loss backwards through the network. Each operation has some gradient between the inputs and outputs. As we send the gradients backwards, we multiply the incoming gradient with the gradient for the operation. Mathematically, this is really just calculating the gradient of the loss with respect to the weights using the chain rule.\n",
    "\n",
    "$$\n",
    "\\large \\frac{\\partial \\ell}{\\partial W_1} = \\frac{\\partial L_1}{\\partial W_1} \\frac{\\partial S}{\\partial L_1} \\frac{\\partial L_2}{\\partial S} \\frac{\\partial \\ell}{\\partial L_2}\n",
    "$$\n",
    "\n",
    "**Note:** I'm glossing over a few details here that require some knowledge of vector calculus, but they aren't necessary to understand what's going on.\n",
    "\n",
    "We update our weights using this gradient with some learning rate $\\alpha$. \n",
    "\n",
    "$$\n",
    "\\large W^\\prime_1 = W_1 - \\alpha \\frac{\\partial \\ell}{\\partial W_1}\n",
    "$$\n",
    "\n",
    "The learning rate $\\alpha$ is set such that the weight update steps are small enough that the iterative method settles in a minimum."
   ]
  },
  {
   "cell_type": "markdown",
   "metadata": {},
   "source": [
    "## Losses in PyTorch\n",
    "\n",
    "Let's start by seeing how we calculate the loss with PyTorch. Through the `nn` module, PyTorch provides losses such as the cross-entropy loss (`nn.CrossEntropyLoss`). You'll usually see the loss assigned to `criterion`. As noted in the last part, with a classification problem such as MNIST, we're using the softmax function to predict class probabilities. With a softmax output, you want to use cross-entropy as the loss. To actually calculate the loss, you first define the criterion then pass in the output of your network and the correct labels.\n",
    "\n",
    "Something really important to note here. Looking at [the documentation for `nn.CrossEntropyLoss`](https://pytorch.org/docs/stable/nn.html#torch.nn.CrossEntropyLoss),\n",
    "\n",
    "> This criterion combines `nn.LogSoftmax()` and `nn.NLLLoss()` in one single class.\n",
    ">\n",
    "> The input is expected to contain scores for each class.\n",
    "\n",
    "This means we need to pass in the raw output of our network into the loss, not the output of the softmax function. This raw output is usually called the *logits* or *scores*. We use the logits because softmax gives you probabilities which will often be very close to zero or one but floating-point numbers can't accurately represent values near zero or one ([read more here](https://docs.python.org/3/tutorial/floatingpoint.html)). It's usually best to avoid doing calculations with probabilities, typically we use log-probabilities."
   ]
  },
  {
   "cell_type": "code",
   "execution_count": 73,
   "metadata": {},
   "outputs": [],
   "source": [
    "import torch\n",
    "from torch import nn\n",
    "import torch.nn.functional as F\n",
    "from torchvision import datasets, transforms\n",
    "\n",
    "# Define a transform to normalize the data\n",
    "transform = transforms.Compose([transforms.ToTensor(),\n",
    "                                transforms.Normalize((0.5,), (0.5,)),\n",
    "                              ])\n",
    "# Download and load the training data\n",
    "trainset = datasets.MNIST('~/.pytorch/MNIST_data/', download=True, train=True, transform=transform)\n",
    "trainloader = torch.utils.data.DataLoader(trainset, batch_size=64, shuffle=True)"
   ]
  },
  {
   "cell_type": "markdown",
   "metadata": {},
   "source": [
    "### Note\n",
    "If you haven't seen `nn.Sequential` yet, please finish the end of the Part 2 notebook."
   ]
  },
  {
   "cell_type": "code",
   "execution_count": 74,
   "metadata": {},
   "outputs": [
    {
     "name": "stdout",
     "output_type": "stream",
     "text": [
      "tensor(2.2965, grad_fn=<NllLossBackward0>)\n"
     ]
    }
   ],
   "source": [
    "# Build a feed-forward network\n",
    "model = nn.Sequential(nn.Linear(784, 128),\n",
    "                      nn.ReLU(),\n",
    "                      nn.Linear(128, 64),\n",
    "                      nn.ReLU(),\n",
    "                      nn.Linear(64, 10))\n",
    "\n",
    "# Define the loss\n",
    "criterion = nn.CrossEntropyLoss()\n",
    "\n",
    "# Get our data\n",
    "dataiter = iter(trainloader)\n",
    "\n",
    "images, labels = next(dataiter)\n",
    "\n",
    "# Flatten images\n",
    "images = images.view(images.shape[0], -1)\n",
    "\n",
    "# Forward pass, get our logits\n",
    "logits = model(images)\n",
    "# Calculate the loss with the logits and the labels\n",
    "loss = criterion(logits, labels)\n",
    "\n",
    "print(loss)"
   ]
  },
  {
   "cell_type": "markdown",
   "metadata": {},
   "source": [
    "In my experience it's more convenient to build the model with a log-softmax output using `nn.LogSoftmax` or `F.log_softmax` ([documentation](https://pytorch.org/docs/stable/nn.html#torch.nn.LogSoftmax)). Then you can get the actual probabilities by taking the exponential `torch.exp(output)`. With a log-softmax output, you want to use the negative log likelihood loss, `nn.NLLLoss` ([documentation](https://pytorch.org/docs/stable/nn.html#torch.nn.NLLLoss)).\n",
    "\n",
    ">**Exercise:** Build a model that returns the log-softmax as the output and calculate the loss using the negative log likelihood loss. Note that for `nn.LogSoftmax` and `F.log_softmax` you'll need to set the `dim` keyword argument appropriately. `dim=0` calculates softmax across the rows, so each column sums to 1, while `dim=1` calculates across the columns so each row sums to 1. Think about what you want the output to be and choose `dim` appropriately."
   ]
  },
  {
   "cell_type": "code",
   "execution_count": 75,
   "metadata": {},
   "outputs": [
    {
     "name": "stdout",
     "output_type": "stream",
     "text": [
      "tensor(2.3061, grad_fn=<NllLossBackward0>)\n"
     ]
    }
   ],
   "source": [
    "# TODO: Build a feed-forward network\n",
    "model = nn.Sequential(nn.Linear(784, 128),\n",
    "                      nn.ReLU(),\n",
    "                      nn.Linear(128, 64),\n",
    "                      nn.ReLU(),\n",
    "                      nn.Linear(64, 10),\n",
    "                     nn.LogSoftmax(dim=1))\n",
    "\n",
    "# TODO: Define the loss\n",
    "criterion = nn.NLLLoss()\n",
    "\n",
    "### Run this to check your work\n",
    "# Get our data\n",
    "dataiter = iter(trainloader)\n",
    "\n",
    "images, labels = next(dataiter)\n",
    "\n",
    "# Flatten images\n",
    "images = images.view(images.shape[0], -1)\n",
    "\n",
    "# Forward pass, get our logits\n",
    "logits = model(images)\n",
    "# Calculate the loss with the logits and the labels\n",
    "loss = criterion(logits, labels)\n",
    "\n",
    "print(loss)\n",
    "# torch.exp(logits).sum(dim=1)"
   ]
  },
  {
   "cell_type": "markdown",
   "metadata": {},
   "source": [
    "## Autograd\n",
    "\n",
    "Now that we know how to calculate a loss, how do we use it to perform backpropagation? Torch provides a module, `autograd`, for automatically calculating the gradients of tensors. We can use it to calculate the gradients of all our parameters with respect to the loss. Autograd works by keeping track of operations performed on tensors, then going backwards through those operations, calculating gradients along the way. To make sure PyTorch keeps track of operations on a tensor and calculates the gradients, you need to set `requires_grad = True` on a tensor. You can do this at creation with the `requires_grad` keyword, or at any time with `x.requires_grad_(True)`.\n",
    "\n",
    "You can turn off gradients for a block of code with the `torch.no_grad()` content:\n",
    "```python\n",
    "x = torch.zeros(1, requires_grad=True)\n",
    ">>> with torch.no_grad():\n",
    "...     y = x * 2\n",
    ">>> y.requires_grad\n",
    "False\n",
    "```\n",
    "\n",
    "Also, you can turn on or off gradients altogether with `torch.set_grad_enabled(True|False)`.\n",
    "\n",
    "The gradients are computed with respect to some variable `z` with `z.backward()`. This does a backward pass through the operations that created `z`."
   ]
  },
  {
   "cell_type": "code",
   "execution_count": 45,
   "metadata": {},
   "outputs": [
    {
     "name": "stdout",
     "output_type": "stream",
     "text": [
      "tensor([[-0.0550,  0.0627],\n",
      "        [-2.2208, -0.1794]], requires_grad=True)\n"
     ]
    }
   ],
   "source": [
    "x = torch.randn(2,2, requires_grad=True)\n",
    "print(x)"
   ]
  },
  {
   "cell_type": "code",
   "execution_count": 46,
   "metadata": {},
   "outputs": [
    {
     "name": "stdout",
     "output_type": "stream",
     "text": [
      "tensor([[3.0222e-03, 3.9300e-03],\n",
      "        [4.9321e+00, 3.2199e-02]], grad_fn=<PowBackward0>)\n"
     ]
    }
   ],
   "source": [
    "y = x**2\n",
    "print(y)"
   ]
  },
  {
   "cell_type": "markdown",
   "metadata": {},
   "source": [
    "Below we can see the operation that created `y`, a power operation `PowBackward0`."
   ]
  },
  {
   "cell_type": "code",
   "execution_count": 47,
   "metadata": {},
   "outputs": [
    {
     "name": "stdout",
     "output_type": "stream",
     "text": [
      "<PowBackward0 object at 0x7fc17dff8f10>\n"
     ]
    }
   ],
   "source": [
    "## grad_fn shows the function that generated this variable\n",
    "print(y.grad_fn)"
   ]
  },
  {
   "cell_type": "markdown",
   "metadata": {},
   "source": [
    "The autograd module keeps track of these operations and knows how to calculate the gradient for each one. In this way, it's able to calculate the gradients for a chain of operations, with respect to any one tensor. Let's reduce the tensor `y` to a scalar value, the mean."
   ]
  },
  {
   "cell_type": "code",
   "execution_count": 48,
   "metadata": {},
   "outputs": [
    {
     "name": "stdout",
     "output_type": "stream",
     "text": [
      "tensor(1.2428, grad_fn=<MeanBackward0>)\n"
     ]
    }
   ],
   "source": [
    "z = y.mean()\n",
    "print(z)"
   ]
  },
  {
   "cell_type": "markdown",
   "metadata": {},
   "source": [
    "You can check the gradients for `x` and `y` but they are empty currently."
   ]
  },
  {
   "cell_type": "code",
   "execution_count": 49,
   "metadata": {},
   "outputs": [
    {
     "name": "stdout",
     "output_type": "stream",
     "text": [
      "None\n"
     ]
    }
   ],
   "source": [
    "print(x.grad)"
   ]
  },
  {
   "cell_type": "markdown",
   "metadata": {},
   "source": [
    "To calculate the gradients, you need to run the `.backward` method on a Variable, `z` for example. This will calculate the gradient for `z` with respect to `x`\n",
    "\n",
    "$$\n",
    "\\frac{\\partial z}{\\partial x} = \\frac{\\partial}{\\partial x}\\left[\\frac{1}{n}\\sum_i^n x_i^2\\right] = \\frac{x}{2}\n",
    "$$"
   ]
  },
  {
   "cell_type": "code",
   "execution_count": 50,
   "metadata": {},
   "outputs": [
    {
     "name": "stdout",
     "output_type": "stream",
     "text": [
      "tensor([[-0.0275,  0.0313],\n",
      "        [-1.1104, -0.0897]])\n",
      "tensor([[-0.0275,  0.0313],\n",
      "        [-1.1104, -0.0897]], grad_fn=<DivBackward0>)\n"
     ]
    }
   ],
   "source": [
    "z.backward()\n",
    "print(x.grad)\n",
    "print(x/2)"
   ]
  },
  {
   "cell_type": "markdown",
   "metadata": {},
   "source": [
    "These gradients calculations are particularly useful for neural networks. For training we need the gradients of the cost with respect to the weights. With PyTorch, we run data forward through the network to calculate the loss, then, go backwards to calculate the gradients with respect to the loss. Once we have the gradients we can make a gradient descent step. "
   ]
  },
  {
   "cell_type": "markdown",
   "metadata": {},
   "source": [
    "## Loss and Autograd together\n",
    "\n",
    "When we create a network with PyTorch, all of the parameters are initialized with `requires_grad = True`. This means that when we calculate the loss and call `loss.backward()`, the gradients for the parameters are calculated. These gradients are used to update the weights with gradient descent. Below you can see an example of calculating the gradients using a backwards pass."
   ]
  },
  {
   "cell_type": "code",
   "execution_count": 51,
   "metadata": {},
   "outputs": [],
   "source": [
    "# Build a feed-forward network\n",
    "model = nn.Sequential(nn.Linear(784, 128),\n",
    "                      nn.ReLU(),\n",
    "                      nn.Linear(128, 64),\n",
    "                      nn.ReLU(),\n",
    "                      nn.Linear(64, 10),\n",
    "                      nn.LogSoftmax(dim=1))\n",
    "\n",
    "criterion = nn.NLLLoss()\n",
    "dataiter = iter(trainloader)\n",
    "images, labels = next(dataiter)\n",
    "images = images.view(images.shape[0], -1)\n",
    "\n",
    "logits = model(images)\n",
    "loss = criterion(logits, labels)"
   ]
  },
  {
   "cell_type": "code",
   "execution_count": 52,
   "metadata": {},
   "outputs": [
    {
     "name": "stdout",
     "output_type": "stream",
     "text": [
      "Before backward pass: \n",
      " None\n",
      "After backward pass: \n",
      " tensor([[ 0.0012,  0.0012,  0.0012,  ...,  0.0012,  0.0012,  0.0012],\n",
      "        [ 0.0026,  0.0026,  0.0026,  ...,  0.0026,  0.0026,  0.0026],\n",
      "        [ 0.0033,  0.0033,  0.0033,  ...,  0.0033,  0.0033,  0.0033],\n",
      "        ...,\n",
      "        [ 0.0024,  0.0024,  0.0024,  ...,  0.0024,  0.0024,  0.0024],\n",
      "        [ 0.0011,  0.0011,  0.0011,  ...,  0.0011,  0.0011,  0.0011],\n",
      "        [-0.0015, -0.0015, -0.0015,  ..., -0.0015, -0.0015, -0.0015]])\n"
     ]
    }
   ],
   "source": [
    "print('Before backward pass: \\n', model[0].weight.grad)\n",
    "\n",
    "loss.backward()\n",
    "\n",
    "print('After backward pass: \\n', model[0].weight.grad)"
   ]
  },
  {
   "cell_type": "markdown",
   "metadata": {},
   "source": [
    "## Training the network!\n",
    "\n",
    "There's one last piece we need to start training, an optimizer that we'll use to update the weights with the gradients. We get these from PyTorch's [`optim` package](https://pytorch.org/docs/stable/optim.html). For example we can use stochastic gradient descent with `optim.SGD`. You can see how to define an optimizer below."
   ]
  },
  {
   "cell_type": "code",
   "execution_count": 53,
   "metadata": {},
   "outputs": [],
   "source": [
    "from torch import optim\n",
    "\n",
    "# Optimizers require the parameters to optimize and a learning rate\n",
    "optimizer = optim.SGD(model.parameters(), lr=0.01)"
   ]
  },
  {
   "cell_type": "markdown",
   "metadata": {},
   "source": [
    "Now we know how to use all the individual parts so it's time to see how they work together. Let's consider just one learning step before looping through all the data. The general process with PyTorch:\n",
    "\n",
    "* Make a forward pass through the network \n",
    "* Use the network output to calculate the loss\n",
    "* Perform a backward pass through the network with `loss.backward()` to calculate the gradients\n",
    "* Take a step with the optimizer to update the weights\n",
    "\n",
    "Below I'll go through one training step and print out the weights and gradients so you can see how it changes. Note that I have a line of code `optimizer.zero_grad()`. When you do multiple backwards passes with the same parameters, the gradients are accumulated. This means that you need to zero the gradients on each training pass or you'll retain gradients from previous training batches."
   ]
  },
  {
   "cell_type": "code",
   "execution_count": 56,
   "metadata": {},
   "outputs": [
    {
     "data": {
      "text/plain": [
       "(tensor([2, 8, 1, 6, 8, 2, 6, 6, 5, 5, 9, 4, 9, 9, 6, 3, 7, 7, 5, 3, 1, 2, 9, 6,\n",
       "         9, 0, 3, 5, 3, 9, 1, 4, 2, 4, 9, 2, 8, 1, 6, 2, 7, 6, 7, 0, 3, 9, 6, 1,\n",
       "         7, 5, 6, 1, 9, 5, 6, 7, 8, 0, 5, 8, 5, 1, 9, 1]),\n",
       " tensor([[-2.1530, -2.3835, -2.3501, -2.5036, -2.3169, -2.4783, -2.0906, -2.4075,\n",
       "          -2.0233, -2.4515],\n",
       "         [-2.1915, -2.3952, -2.2761, -2.3914, -2.3095, -2.4649, -2.1511, -2.4172,\n",
       "          -2.1075, -2.3914],\n",
       "         [-2.1373, -2.4415, -2.3159, -2.4696, -2.3331, -2.4605, -2.1272, -2.4335,\n",
       "          -2.0006, -2.4402],\n",
       "         [-2.1462, -2.4511, -2.3142, -2.4223, -2.4434, -2.4278, -2.0295, -2.3363,\n",
       "          -2.1009, -2.4795],\n",
       "         [-2.2335, -2.4100, -2.3186, -2.4763, -2.2585, -2.4187, -2.1217, -2.3854,\n",
       "          -2.0319, -2.4763],\n",
       "         [-2.2552, -2.3696, -2.2580, -2.4533, -2.3249, -2.4274, -2.2269, -2.3802,\n",
       "          -1.9971, -2.4203],\n",
       "         [-2.2159, -2.3778, -2.3048, -2.4829, -2.3786, -2.4212, -2.1364, -2.3719,\n",
       "          -2.0027, -2.4412],\n",
       "         [-2.1826, -2.3866, -2.3404, -2.4759, -2.3337, -2.4708, -2.1348, -2.2934,\n",
       "          -2.0417, -2.4712],\n",
       "         [-2.1998, -2.3829, -2.2509, -2.4115, -2.3368, -2.4918, -2.1050, -2.4107,\n",
       "          -2.0898, -2.4396],\n",
       "         [-2.2301, -2.3194, -2.3293, -2.4821, -2.3217, -2.4082, -2.1392, -2.4572,\n",
       "          -1.9957, -2.4559],\n",
       "         [-2.2582, -2.3523, -2.2954, -2.4758, -2.3745, -2.3902, -2.1160, -2.3917,\n",
       "          -1.9675, -2.5382],\n",
       "         [-2.2446, -2.3659, -2.3028, -2.4960, -2.4494, -2.3721, -2.1398, -2.3670,\n",
       "          -1.9345, -2.4984],\n",
       "         [-2.1823, -2.4131, -2.2949, -2.5301, -2.3943, -2.3889, -2.1392, -2.4118,\n",
       "          -1.9709, -2.4354],\n",
       "         [-2.2233, -2.3828, -2.2836, -2.4142, -2.3585, -2.4603, -2.1903, -2.4014,\n",
       "          -1.9677, -2.4548],\n",
       "         [-2.1640, -2.4291, -2.2010, -2.4545, -2.3537, -2.4541, -2.1453, -2.3789,\n",
       "          -2.0435, -2.5233],\n",
       "         [-2.2097, -2.4137, -2.3099, -2.4569, -2.3795, -2.4359, -2.0354, -2.3932,\n",
       "          -2.0547, -2.4581],\n",
       "         [-2.1879, -2.4288, -2.2883, -2.4784, -2.3796, -2.3896, -2.1323, -2.3986,\n",
       "          -1.9743, -2.5028],\n",
       "         [-2.2694, -2.3350, -2.3185, -2.4236, -2.3680, -2.3636, -2.1627, -2.3890,\n",
       "          -2.0236, -2.4518],\n",
       "         [-2.2661, -2.3422, -2.3096, -2.4185, -2.2903, -2.3914, -2.1301, -2.4094,\n",
       "          -2.1154, -2.4104],\n",
       "         [-2.1951, -2.3792, -2.2979, -2.4394, -2.3147, -2.4581, -2.1183, -2.3838,\n",
       "          -2.0703, -2.4609],\n",
       "         [-2.1271, -2.4129, -2.3304, -2.4885, -2.3217, -2.4655, -2.1380, -2.4310,\n",
       "          -1.9891, -2.4625],\n",
       "         [-2.1299, -2.4826, -2.2535, -2.4049, -2.3154, -2.4539, -2.1550, -2.4162,\n",
       "          -2.0262, -2.5179],\n",
       "         [-2.2372, -2.3570, -2.3026, -2.4522, -2.3456, -2.4389, -2.1256, -2.3813,\n",
       "          -2.0136, -2.4761],\n",
       "         [-2.1320, -2.4273, -2.2354, -2.4733, -2.3143, -2.4886, -2.1699, -2.3866,\n",
       "          -2.0300, -2.4946],\n",
       "         [-2.2313, -2.3706, -2.3096, -2.4233, -2.3776, -2.3761, -2.1621, -2.3985,\n",
       "          -1.9804, -2.5055],\n",
       "         [-2.2277, -2.4289, -2.3182, -2.4612, -2.3743, -2.4540, -2.0738, -2.4139,\n",
       "          -2.0161, -2.3758],\n",
       "         [-2.2523, -2.3823, -2.2768, -2.3800, -2.2616, -2.4310, -2.0370, -2.5184,\n",
       "          -2.1555, -2.4263],\n",
       "         [-2.2068, -2.3772, -2.2896, -2.4512, -2.3343, -2.4317, -2.1242, -2.3682,\n",
       "          -2.0486, -2.4915],\n",
       "         [-2.2823, -2.3651, -2.2494, -2.4759, -2.2800, -2.4619, -2.1253, -2.3690,\n",
       "          -2.0509, -2.4614],\n",
       "         [-2.2036, -2.3718, -2.2702, -2.4667, -2.3004, -2.4886, -2.1723, -2.3839,\n",
       "          -2.0238, -2.4462],\n",
       "         [-2.2152, -2.3541, -2.3476, -2.4815, -2.2828, -2.4889, -2.0672, -2.3946,\n",
       "          -2.0722, -2.4303],\n",
       "         [-2.2057, -2.3496, -2.2894, -2.4238, -2.3913, -2.3957, -2.1790, -2.4368,\n",
       "          -2.0157, -2.4297],\n",
       "         [-2.1415, -2.4699, -2.3013, -2.4598, -2.3491, -2.4479, -2.1246, -2.3688,\n",
       "          -2.0259, -2.4597],\n",
       "         [-2.2049, -2.4002, -2.3164, -2.4477, -2.3072, -2.4534, -2.1556, -2.3243,\n",
       "          -2.0401, -2.4690],\n",
       "         [-2.2238, -2.4117, -2.2483, -2.5100, -2.3302, -2.4705, -2.1753, -2.3751,\n",
       "          -1.9411, -2.4848],\n",
       "         [-2.1242, -2.3714, -2.3469, -2.4372, -2.3689, -2.4663, -2.1190, -2.3903,\n",
       "          -2.0724, -2.4312],\n",
       "         [-2.2280, -2.2967, -2.2944, -2.4370, -2.2903, -2.4152, -2.1813, -2.4729,\n",
       "          -2.0588, -2.4304],\n",
       "         [-2.1682, -2.3680, -2.3140, -2.4556, -2.3145, -2.4863, -2.1041, -2.3993,\n",
       "          -2.0881, -2.4238],\n",
       "         [-2.1883, -2.3904, -2.2873, -2.4393, -2.2817, -2.4793, -2.0937, -2.4406,\n",
       "          -2.1073, -2.4111],\n",
       "         [-2.2021, -2.4224, -2.2646, -2.4412, -2.3840, -2.4491, -2.1499, -2.3566,\n",
       "          -1.9844, -2.4945],\n",
       "         [-2.2560, -2.3289, -2.2964, -2.4233, -2.3349, -2.3971, -2.1610, -2.4085,\n",
       "          -2.0376, -2.4618],\n",
       "         [-2.1207, -2.4435, -2.2628, -2.4599, -2.3220, -2.4426, -2.1590, -2.3942,\n",
       "          -2.0587, -2.4725],\n",
       "         [-2.2694, -2.3879, -2.3009, -2.4308, -2.3640, -2.4031, -2.1331, -2.3785,\n",
       "          -1.9916, -2.4704],\n",
       "         [-2.2353, -2.3363, -2.2990, -2.4113, -2.3382, -2.3423, -2.2432, -2.3619,\n",
       "          -2.0771, -2.4299],\n",
       "         [-2.1832, -2.4015, -2.3123, -2.4230, -2.2623, -2.4732, -2.0336, -2.4129,\n",
       "          -2.1459, -2.4859],\n",
       "         [-2.1996, -2.3764, -2.2936, -2.3997, -2.4146, -2.4096, -2.1965, -2.4257,\n",
       "          -1.9896, -2.4190],\n",
       "         [-2.1552, -2.4003, -2.2306, -2.4924, -2.3544, -2.4780, -2.1135, -2.3544,\n",
       "          -2.0566, -2.5166],\n",
       "         [-2.1530, -2.4471, -2.2913, -2.4483, -2.3405, -2.4778, -2.1548, -2.3937,\n",
       "          -1.9924, -2.4540],\n",
       "         [-2.2265, -2.3730, -2.2449, -2.5237, -2.3558, -2.4427, -2.2161, -2.3732,\n",
       "          -1.9212, -2.4962],\n",
       "         [-2.2109, -2.4078, -2.2893, -2.4572, -2.2713, -2.4436, -2.1040, -2.4116,\n",
       "          -2.0670, -2.4635],\n",
       "         [-2.1644, -2.4051, -2.2473, -2.4113, -2.2820, -2.4736, -2.1818, -2.4360,\n",
       "          -2.0831, -2.4274],\n",
       "         [-2.1586, -2.4193, -2.3002, -2.4873, -2.3450, -2.4798, -2.1247, -2.4084,\n",
       "          -1.9959, -2.4392],\n",
       "         [-2.2500, -2.4009, -2.3203, -2.4550, -2.3573, -2.3963, -2.0688, -2.4338,\n",
       "          -1.9961, -2.4743],\n",
       "         [-2.2470, -2.3718, -2.2692, -2.4166, -2.3533, -2.4423, -2.1453, -2.3779,\n",
       "          -2.0524, -2.4290],\n",
       "         [-2.2414, -2.4089, -2.2722, -2.4635, -2.3840, -2.4062, -2.0888, -2.3868,\n",
       "          -2.0297, -2.4523],\n",
       "         [-2.2512, -2.3772, -2.2686, -2.3985, -2.3668, -2.3869, -2.2121, -2.4256,\n",
       "          -2.0038, -2.4170],\n",
       "         [-2.1375, -2.4399, -2.3120, -2.4689, -2.3954, -2.3910, -2.1741, -2.3831,\n",
       "          -1.9746, -2.4808],\n",
       "         [-2.2461, -2.4137, -2.2926, -2.4532, -2.3089, -2.4283, -2.0825, -2.4282,\n",
       "          -2.0376, -2.4421],\n",
       "         [-2.2759, -2.3874, -2.2773, -2.5083, -2.3489, -2.4153, -2.0449, -2.4145,\n",
       "          -1.9996, -2.4956],\n",
       "         [-2.2409, -2.4129, -2.2980, -2.3780, -2.3137, -2.4369, -2.0974, -2.3806,\n",
       "          -2.1168, -2.4205],\n",
       "         [-2.2343, -2.3594, -2.2854, -2.3900, -2.3329, -2.4355, -2.0969, -2.3977,\n",
       "          -2.1356, -2.4237],\n",
       "         [-2.2023, -2.3583, -2.2954, -2.4756, -2.2938, -2.4844, -2.0982, -2.3819,\n",
       "          -2.0878, -2.4446],\n",
       "         [-2.2214, -2.3759, -2.3123, -2.4905, -2.3133, -2.4801, -2.0869, -2.4613,\n",
       "          -2.0165, -2.3911],\n",
       "         [-2.1446, -2.4304, -2.2632, -2.4591, -2.3479, -2.4727, -2.1481, -2.4053,\n",
       "          -2.0201, -2.4552]], grad_fn=<LogSoftmaxBackward0>))"
      ]
     },
     "execution_count": 56,
     "metadata": {},
     "output_type": "execute_result"
    }
   ],
   "source": [
    "labels,output"
   ]
  },
  {
   "cell_type": "code",
   "execution_count": 57,
   "metadata": {},
   "outputs": [
    {
     "name": "stdout",
     "output_type": "stream",
     "text": [
      "Initial weights -  Parameter containing:\n",
      "tensor([[ 0.0093, -0.0169,  0.0007,  ...,  0.0305,  0.0210, -0.0151],\n",
      "        [-0.0186,  0.0343, -0.0025,  ..., -0.0312,  0.0038,  0.0008],\n",
      "        [-0.0309,  0.0207,  0.0015,  ..., -0.0160, -0.0106, -0.0342],\n",
      "        ...,\n",
      "        [ 0.0092,  0.0311, -0.0178,  ..., -0.0354,  0.0024, -0.0263],\n",
      "        [ 0.0283, -0.0016,  0.0012,  ..., -0.0138, -0.0299,  0.0135],\n",
      "        [-0.0308,  0.0337,  0.0145,  ..., -0.0309,  0.0023,  0.0020]],\n",
      "       requires_grad=True)\n",
      "Gradient - tensor([[-0.0026, -0.0026, -0.0026,  ..., -0.0026, -0.0026, -0.0026],\n",
      "        [ 0.0016,  0.0016,  0.0016,  ...,  0.0016,  0.0016,  0.0016],\n",
      "        [ 0.0020,  0.0020,  0.0020,  ...,  0.0020,  0.0020,  0.0020],\n",
      "        ...,\n",
      "        [ 0.0017,  0.0017,  0.0017,  ...,  0.0017,  0.0017,  0.0017],\n",
      "        [ 0.0001,  0.0001,  0.0001,  ...,  0.0001,  0.0001,  0.0001],\n",
      "        [ 0.0012,  0.0012,  0.0012,  ...,  0.0012,  0.0012,  0.0012]])\n"
     ]
    }
   ],
   "source": [
    "print('Initial weights - ', model[0].weight)\n",
    "\n",
    "dataiter = iter(trainloader)\n",
    "images, labels = next(dataiter)\n",
    "images.resize_(64, 784)\n",
    "\n",
    "# Clear the gradients, do this because gradients are accumulated\n",
    "optimizer.zero_grad()\n",
    "\n",
    "# Forward pass, then backward pass, then update weights\n",
    "output = model(images)\n",
    "loss = criterion(output, labels)\n",
    "loss.backward()\n",
    "print('Gradient -', model[0].weight.grad)"
   ]
  },
  {
   "cell_type": "code",
   "execution_count": 58,
   "metadata": {},
   "outputs": [
    {
     "name": "stdout",
     "output_type": "stream",
     "text": [
      "Updated weights -  Parameter containing:\n",
      "tensor([[ 0.0093, -0.0168,  0.0007,  ...,  0.0306,  0.0210, -0.0151],\n",
      "        [-0.0186,  0.0343, -0.0026,  ..., -0.0312,  0.0038,  0.0007],\n",
      "        [-0.0310,  0.0207,  0.0015,  ..., -0.0160, -0.0106, -0.0342],\n",
      "        ...,\n",
      "        [ 0.0092,  0.0311, -0.0178,  ..., -0.0354,  0.0023, -0.0263],\n",
      "        [ 0.0283, -0.0016,  0.0012,  ..., -0.0138, -0.0299,  0.0135],\n",
      "        [-0.0308,  0.0336,  0.0144,  ..., -0.0309,  0.0023,  0.0020]],\n",
      "       requires_grad=True)\n"
     ]
    }
   ],
   "source": [
    "# Take an update step and view the new weights\n",
    "optimizer.step()\n",
    "print('Updated weights - ', model[0].weight)"
   ]
  },
  {
   "cell_type": "markdown",
   "metadata": {},
   "source": [
    "### Training for real\n",
    "\n",
    "Now we'll put this algorithm into a loop so we can go through all the images. Some nomenclature, one pass through the entire dataset is called an *epoch*. So here we're going to loop through `trainloader` to get our training batches. For each batch, we'll doing a training pass where we calculate the loss, do a backwards pass, and update the weights.\n",
    "\n",
    ">**Exercise:** Implement the training pass for our network. If you implemented it correctly, you should see the training loss drop with each epoch."
   ]
  },
  {
   "cell_type": "code",
   "execution_count": 64,
   "metadata": {},
   "outputs": [
    {
     "data": {
      "text/plain": [
       "(tensor([8, 8, 8, 8, 8, 8, 8, 8, 8, 8, 7, 8, 8, 8, 8, 8, 8, 8, 8, 8, 8, 8, 6, 8,\n",
       "         8, 8, 8, 8, 8, 6, 8, 8]),\n",
       " tensor([3, 1, 7, 0, 9, 9, 8, 5, 1, 1, 3, 0, 5, 7, 0, 3, 1, 6, 0, 7, 7, 8, 1, 8,\n",
       "         9, 0, 8, 9, 9, 8, 4, 9]))"
      ]
     },
     "execution_count": 64,
     "metadata": {},
     "output_type": "execute_result"
    }
   ],
   "source": [
    "torch.argmax(torch.exp(model(images)),dim=1),labels"
   ]
  },
  {
   "cell_type": "code",
   "execution_count": 66,
   "metadata": {},
   "outputs": [
    {
     "name": "stdout",
     "output_type": "stream",
     "text": [
      "Training loss: 1.9156048100894447\n",
      "Training loss: 0.8373075184473859\n",
      "Training loss: 0.5072101353963555\n",
      "Training loss: 0.4158481441612945\n",
      "Training loss: 0.3755414491968114\n"
     ]
    }
   ],
   "source": [
    "## Your solution here\n",
    "\n",
    "model = nn.Sequential(nn.Linear(784, 128),\n",
    "                      nn.ReLU(),\n",
    "                      nn.Linear(128, 64),\n",
    "                      nn.ReLU(),\n",
    "                      nn.Linear(64, 10),\n",
    "                      nn.LogSoftmax(dim=1))\n",
    "\n",
    "criterion = nn.NLLLoss()\n",
    "optimizer = optim.SGD(model.parameters(), lr=0.003)\n",
    "\n",
    "epochs = 5\n",
    "for e in range(epochs):\n",
    "    running_loss = 0\n",
    "    for images, labels in trainloader:\n",
    "        # Flatten MNIST images into a 784 long vector\n",
    "        images = images.view(images.shape[0], -1)\n",
    "    \n",
    "        # TODO: Training pass\n",
    "        optimizer.zero_grad()\n",
    "        output = model(images)\n",
    "        #torch.argmax(torch.exp(model(images)),dim=1)\n",
    "        loss = criterion(output,labels)\n",
    "        \n",
    "        loss.backward()\n",
    "        \n",
    "        #And optimizes its weights here\n",
    "        optimizer.step()\n",
    "        \n",
    "        running_loss += loss.item()\n",
    "    else:\n",
    "        print(f\"Training loss: {running_loss/len(trainloader)}\")"
   ]
  },
  {
   "cell_type": "markdown",
   "metadata": {},
   "source": [
    "With the network trained, we can check out it's predictions."
   ]
  },
  {
   "cell_type": "code",
   "execution_count": 72,
   "metadata": {},
   "outputs": [
    {
     "data": {
      "image/png": "[encoded data removed]",
      "text/plain": [
       "<Figure size 432x648 with 2 Axes>"
      ]
     },
     "metadata": {
      "needs_background": "light"
     },
     "output_type": "display_data"
    }
   ],
   "source": [
    "%matplotlib inline\n",
    "import helper\n",
    "\n",
    "dataiter = iter(trainloader)\n",
    "images, labels = next(dataiter)\n",
    "\n",
    "img = images[0].view(1, 784)\n",
    "# Turn off gradients to speed up this part\n",
    "with torch.no_grad():\n",
    "    logps = model(img)\n",
    "\n",
    "# Output of the network are log-probabilities, need to take exponential for probabilities\n",
    "ps = torch.exp(logps)\n",
    "helper.view_classify(img.view(1, 28, 28), ps)"
   ]
  },
  {
   "cell_type": "markdown",
   "metadata": {},
   "source": [
    "Now our network is (almost) brilliant (we train and \"test\" on the same data) . It can accurately predict the digits in our images. Next up you'll write the code for training a neural network on a more complex dataset."
   ]
  }
 ],
 "metadata": {
  "kernelspec": {
   "display_name": "Python 3 (ipykernel)",
   "language": "python",
   "name": "python3"
  },
  "language_info": {
   "codemirror_mode": {
    "name": "ipython",
    "version": 3
   },
   "file_extension": ".py",
   "mimetype": "text/x-python",
   "name": "python",
   "nbconvert_exporter": "python",
   "pygments_lexer": "ipython3",
   "version": "3.9.7"
  }
 },
 "nbformat": 4,
 "nbformat_minor": 2
}
