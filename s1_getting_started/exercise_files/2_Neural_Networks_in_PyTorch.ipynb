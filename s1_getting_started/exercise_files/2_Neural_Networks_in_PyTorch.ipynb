{
 "cells": [
  {
   "cell_type": "markdown",
   "metadata": {},
   "source": [
    "# Neural networks with PyTorch\n",
    "\n",
    "Deep learning networks tend to be massive with dozens or hundreds of layers, that's where the term \"deep\" comes from. You can build one of these deep networks using only weight matrices as we did in the previous notebook, but in general it's very cumbersome and difficult to implement. PyTorch has a nice module `nn` that provides a nice way to efficiently build large neural networks."
   ]
  },
  {
   "cell_type": "code",
   "execution_count": 1,
   "metadata": {},
   "outputs": [],
   "source": [
    "# Import necessary packages\n",
    "\n",
    "%matplotlib inline\n",
    "%config InlineBackend.figure_format = 'retina'\n",
    "\n",
    "import numpy as np\n",
    "import torch\n",
    "\n",
    "import helper\n",
    "\n",
    "import matplotlib.pyplot as plt"
   ]
  },
  {
   "cell_type": "markdown",
   "metadata": {},
   "source": [
    "\n",
    "Now we're going to build a larger network that can solve a (formerly) difficult problem, identifying text in an image. Here we'll use the MNIST dataset which consists of greyscale handwritten digits. Each image is 28x28 pixels, you can see a sample below\n",
    "\n",
    "<img src='assets/mnist.png'>\n",
    "\n",
    "Our goal is to build a neural network that can take one of these images and predict the digit in the image.\n",
    "\n",
    "First up, we need to get our dataset. This is provided through the `torchvision` package. The code below will download the MNIST dataset, then create training and test datasets for us. Don't worry too much about the details here, you'll learn more about this later."
   ]
  },
  {
   "cell_type": "code",
   "execution_count": 2,
   "metadata": {},
   "outputs": [],
   "source": [
    "### Run this cell\n",
    "\n",
    "from torchvision import datasets, transforms\n",
    "\n",
    "# Define a transform to normalize the data\n",
    "transform = transforms.Compose([transforms.ToTensor(),\n",
    "                              transforms.Normalize((0.5,), (0.5,)),\n",
    "                              ])\n",
    "\n",
    "# Download and load the training data\n",
    "trainset = datasets.MNIST('~/.pytorch/MNIST_data/', download=True, train=True, transform=transform)\n",
    "trainloader = torch.utils.data.DataLoader(trainset, batch_size=64, shuffle=True)"
   ]
  },
  {
   "cell_type": "markdown",
   "metadata": {},
   "source": [
    "We have the training data loaded into `trainloader` and we make that an iterator with `iter(trainloader)`. Later, we'll use this to loop through the dataset for training, like\n",
    "\n",
    "```python\n",
    "for image, label in trainloader:\n",
    "    ## do things with images and labels\n",
    "```\n",
    "\n",
    "You'll notice I created the `trainloader` with a batch size of 64, and `shuffle=True`. The batch size is the number of images we get in one iteration from the data loader and pass through our network, often called a *batch*. And `shuffle=True` tells it to shuffle the dataset every time we start going through the data loader again. But here I'm just grabbing the first batch so we can check out the data. We can see below that `images` is just a tensor with size `(64, 1, 28, 28)`. So, 64 images per batch, 1 color channel, and 28x28 images."
   ]
  },
  {
   "cell_type": "code",
   "execution_count": 40,
   "metadata": {},
   "outputs": [
    {
     "name": "stdout",
     "output_type": "stream",
     "text": [
      "<class 'torch.Tensor'>\n",
      "torch.Size([64, 1, 28, 28])\n",
      "torch.Size([64])\n"
     ]
    },
    {
     "data": {
      "image/png": "[encoded data removed]",
      "text/plain": [
       "<Figure size 432x288 with 1 Axes>"
      ]
     },
     "metadata": {
      "image/png": {
       "height": 248,
       "width": 251
      },
      "needs_background": "light"
     },
     "output_type": "display_data"
    }
   ],
   "source": [
    "dataiter = iter(trainloader)\n",
    "images, labels = dataiter.next()\n",
    "print(type(images))\n",
    "print(images.shape)\n",
    "print(labels.shape)\n",
    "plt.imshow(images[1].numpy().squeeze(), cmap='Greys_r');"
   ]
  },
  {
   "cell_type": "markdown",
   "metadata": {},
   "source": [
    "This is what one of the images looks like. "
   ]
  },
  {
   "cell_type": "code",
   "execution_count": 37,
   "metadata": {},
   "outputs": [
    {
     "data": {
      "text/plain": [
       "array([-1.        , -0.99215686, -0.9843137 , -0.9764706 , -0.96862745,\n",
       "       -0.9607843 , -0.9529412 , -0.94509804, -0.9372549 , -0.92941177,\n",
       "       -0.92156863, -0.9137255 , -0.90588236, -0.8980392 , -0.8901961 ,\n",
       "       -0.88235295, -0.8745098 , -0.8666667 , -0.85882354, -0.8509804 ,\n",
       "       -0.84313726, -0.8352941 , -0.827451  , -0.81960785, -0.8117647 ,\n",
       "       -0.8039216 , -0.79607844, -0.7882353 , -0.78039217, -0.77254903,\n",
       "       -0.7647059 , -0.75686276, -0.7490196 , -0.7411765 , -0.73333335,\n",
       "       -0.7254902 , -0.7176471 , -0.70980394, -0.7019608 , -0.69411767,\n",
       "       -0.6862745 , -0.6784314 , -0.67058825, -0.6627451 , -0.654902  ,\n",
       "       -0.64705884, -0.6392157 , -0.6313726 , -0.62352943, -0.6156863 ,\n",
       "       -0.60784316, -0.6       , -0.5921569 , -0.58431375, -0.5764706 ,\n",
       "       -0.5686275 , -0.56078434, -0.5529412 , -0.54509807, -0.5372549 ,\n",
       "       -0.5294118 , -0.52156866, -0.5137255 , -0.5058824 , -0.4980392 ,\n",
       "       -0.49019605, -0.4823529 , -0.47450978, -0.46666664, -0.4588235 ,\n",
       "       -0.45098037, -0.44313723, -0.4352941 , -0.42745095, -0.41960782,\n",
       "       -0.41176468, -0.40392154, -0.3960784 , -0.38823527, -0.38039213,\n",
       "       -0.372549  , -0.36470586, -0.35686272, -0.3490196 , -0.34117645,\n",
       "       -0.3333333 , -0.32549018, -0.31764704, -0.3098039 , -0.30196077,\n",
       "       -0.29411763, -0.2862745 , -0.27843136, -0.27058822, -0.26274508,\n",
       "       -0.25490195, -0.24705881, -0.23921567, -0.23137254, -0.2235294 ,\n",
       "       -0.21568626, -0.20784312, -0.19999999, -0.19215685, -0.18431371,\n",
       "       -0.17647058, -0.16862744, -0.1607843 , -0.15294117, -0.14509803,\n",
       "       -0.1372549 , -0.12941176, -0.12156862, -0.11372548, -0.10588235,\n",
       "       -0.09803921, -0.09019607, -0.08235294, -0.0745098 , -0.06666666,\n",
       "       -0.05882353, -0.05098039, -0.04313725, -0.03529412, -0.02745098,\n",
       "       -0.01960784, -0.01176471, -0.00392157,  0.00392163,  0.01176476,\n",
       "        0.0196079 ,  0.02745104,  0.03529418,  0.04313731,  0.05098045,\n",
       "        0.05882359,  0.06666672,  0.07450986,  0.082353  ,  0.09019613,\n",
       "        0.09803927,  0.10588241,  0.11372554,  0.12156868,  0.12941182,\n",
       "        0.13725495,  0.14509809,  0.15294123,  0.16078436,  0.1686275 ,\n",
       "        0.17647064,  0.18431377,  0.19215691,  0.20000005,  0.20784318,\n",
       "        0.21568632,  0.22352946,  0.2313726 ,  0.23921573,  0.24705887,\n",
       "        0.254902  ,  0.26274514,  0.27058828,  0.27843142,  0.28627455,\n",
       "        0.2941177 ,  0.30196083,  0.30980396,  0.3176471 ,  0.32549024,\n",
       "        0.33333337,  0.3411765 ,  0.34901965,  0.35686278,  0.36470592,\n",
       "        0.37254906,  0.3803922 ,  0.38823533,  0.39607847,  0.4039216 ,\n",
       "        0.41176474,  0.41960788,  0.427451  ,  0.43529415,  0.4431373 ,\n",
       "        0.45098042,  0.45882356,  0.4666667 ,  0.47450984,  0.48235297,\n",
       "        0.4901961 ,  0.49803925,  0.5058824 ,  0.5137255 ,  0.52156866,\n",
       "        0.5294118 ,  0.5372549 ,  0.54509807,  0.5529412 ,  0.56078434,\n",
       "        0.5686275 ,  0.5764706 ,  0.58431375,  0.5921569 ,  0.6       ,\n",
       "        0.60784316,  0.6156863 ,  0.62352943,  0.6313726 ,  0.6392157 ,\n",
       "        0.64705884,  0.654902  ,  0.6627451 ,  0.67058825,  0.6784314 ,\n",
       "        0.6862745 ,  0.69411767,  0.7019608 ,  0.70980394,  0.7176471 ,\n",
       "        0.7254902 ,  0.73333335,  0.7411765 ,  0.7490196 ,  0.75686276,\n",
       "        0.7647059 ,  0.77254903,  0.78039217,  0.7882353 ,  0.79607844,\n",
       "        0.8039216 ,  0.8117647 ,  0.81960785,  0.827451  ,  0.8352941 ,\n",
       "        0.84313726,  0.8509804 ,  0.85882354,  0.8666667 ,  0.8745098 ,\n",
       "        0.88235295,  0.8901961 ,  0.8980392 ,  0.90588236,  0.9137255 ,\n",
       "        0.92156863,  0.92941177,  0.9372549 ,  0.94509804,  0.9529412 ,\n",
       "        0.9607843 ,  0.96862745,  0.9764706 ,  0.9843137 ,  0.99215686,\n",
       "        1.        ], dtype=float32)"
      ]
     },
     "execution_count": 37,
     "metadata": {},
     "output_type": "execute_result"
    }
   ],
   "source": [
    "np.unique(images.numpy().squeeze())"
   ]
  },
  {
   "cell_type": "markdown",
   "metadata": {},
   "source": [
    "First, let's try to build a simple network for this dataset using weight matrices and matrix multiplications. Then, we'll see how to do it using PyTorch's `nn` module which provides a much more convenient and powerful method for defining network architectures.\n",
    "\n",
    "The networks you've seen so far are called *fully-connected* or *dense* networks. Each unit in one layer is connected to each unit in the next layer. In fully-connected networks, the input to each layer must be a one-dimensional vector (which can be stacked into a 2D tensor as a batch of multiple examples). However, our images are 28x28 2D tensors, so we need to convert them into 1D vectors. Thinking about sizes, we need to convert the batch of images with shape `(64, 1, 28, 28)` to a have a shape of `(64, 784)`, 784 is 28 times 28. This is typically called *flattening*, we flattened the 2D images into 1D vectors.\n",
    "\n",
    "Previously you built a network with one output unit. Here we need 10 output units, one for each digit. We want our network to predict the digit shown in an image, so what we'll do is calculate probabilities that the image is of any one digit or class. This ends up being a discrete probability distribution over the classes (digits) that tells us the most likely class for the image. That means we need 10 output units for the 10 classes (digits). We'll see how to convert the network output into a probability distribution next.\n",
    "\n",
    "> **Exercise:** Flatten the batch of images `images`. Then build a multi-layer network with 784 input units, 256 hidden units, and 10 output units using random tensors for the weights and biases. For now, use a sigmoid activation for the hidden layer. Leave the output layer without an activation, we'll add one that gives us a probability distribution next."
   ]
  },
  {
   "cell_type": "code",
   "execution_count": 11,
   "metadata": {},
   "outputs": [],
   "source": [
    "## Your solution   \n",
    "\n",
    "## Activation function\n",
    "def activation(x):\n",
    "    \"\"\" Sigmoid activation function \n",
    "        Arguments\n",
    "        ---------\n",
    "        x: torch.Tensor\n",
    "    \"\"\"\n",
    "    return 1/(1+torch.exp(-x))\n",
    "\n",
    "### Neural network\n",
    "def multi_Layer_NW(inputUnits, hiddenUnits, outputUnits):\n",
    "    torch.manual_seed(7) # Set the random seed so things are predictable\n",
    "\n",
    "    # Define the size of each layer in our network\n",
    "    n_input = inputUnits     # Number of input units, must match number of input features\n",
    "    n_hidden = hiddenUnits   # Number of hidden units \n",
    "    n_output = outputUnits   # Number of output units\n",
    "\n",
    "    # Weights for inputs to hidden layer\n",
    "    W1 = torch.randn(n_input, n_hidden)\n",
    "    # Weights for hidden layer to output layer\n",
    "    W2 = torch.randn(n_hidden, n_output)\n",
    "\n",
    "    # and bias terms for hidden and output layers\n",
    "    B1 = torch.randn((1, n_hidden))\n",
    "    B2 = torch.randn((1, n_output))\n",
    "\n",
    "    return W1,W2,B1,B2\n",
    "\n",
    "def calc_output(features,W1,W2,B1,B2):\n",
    "    h = activation(torch.matmul(features,W1).add_(B1))\n",
    "    output = activation(torch.matmul(h,W2).add_(B2))\n",
    "    return output\n",
    "\n",
    "# Features are flattened batch input\n",
    "features = torch.flatten(images,start_dim=1)\n",
    "W1,W2,B1,B2 = multi_Layer_NW(features.shape[1],256,10)\n",
    "\n",
    "out = calc_output(features,W1,W2,B1,B2) # output of your network, should have shape (64,10)"
   ]
  },
  {
   "cell_type": "code",
   "execution_count": 14,
   "metadata": {},
   "outputs": [
    {
     "data": {
      "text/plain": [
       "torch.Size([64, 10])"
      ]
     },
     "execution_count": 14,
     "metadata": {},
     "output_type": "execute_result"
    }
   ],
   "source": [
    "out.shape"
   ]
  },
  {
   "cell_type": "markdown",
   "metadata": {},
   "source": [
    "Now we have 10 outputs for our network. We want to pass in an image to our network and get out a probability distribution over the classes that tells us the likely class(es) the image belongs to. Something that looks like this:\n",
    "<img src='assets/image_distribution.png' width=500px>\n",
    "\n",
    "Here we see that the probability for each class is roughly the same. This is representing an untrained network, it hasn't seen any data yet so it just returns a uniform distribution with equal probabilities for each class.\n",
    "\n",
    "To calculate this probability distribution, we often use the [**softmax** function](https://en.wikipedia.org/wiki/Softmax_function). Mathematically this looks like\n",
    "\n",
    "$$\n",
    "\\Large \\sigma(x_i) = \\cfrac{e^{x_i}}{\\sum_k^K{e^{x_k}}}\n",
    "$$\n",
    "\n",
    "What this does is squish each input $x_i$ between 0 and 1 and normalizes the values to give you a proper probability distribution where the probabilites sum up to one.\n",
    "\n",
    "> **Exercise:** Implement a function `softmax` that performs the softmax calculation and returns probability distributions for each example in the batch. Note that you'll need to pay attention to the shapes when doing this. If you have a tensor `a` with shape `(64, 10)` and a tensor `b` with shape `(64,)`, doing `a/b` will give you an error because PyTorch will try to do the division across the columns (called broadcasting) but you'll get a size mismatch. The way to think about this is for each of the 64 examples, you only want to divide by one value, the sum in the denominator. So you need `b` to have a shape of `(64, 1)`. This way PyTorch will divide the 10 values in each row of `a` by the one value in each row of `b`. Pay attention to how you take the sum as well. You'll need to define the `dim` keyword in `torch.sum`. Setting `dim=0` takes the sum across the rows while `dim=1` takes the sum across the columns."
   ]
  },
  {
   "cell_type": "code",
   "execution_count": 34,
   "metadata": {},
   "outputs": [
    {
     "data": {
      "text/plain": [
       "tensor([17.5432, 16.4038, 15.1516, 16.9519, 14.3006, 14.4604, 17.0349, 15.1664,\n",
       "        15.2344, 14.6376, 14.9282, 14.2108, 17.8407, 15.5820, 15.4305, 20.0728,\n",
       "        14.1277, 15.8321, 16.3460, 16.9896, 14.5621, 16.8664, 14.7526, 13.5765,\n",
       "        17.0724, 13.9146, 15.7938, 16.5045, 16.1468, 16.2378, 18.3945, 16.4603,\n",
       "        15.4727, 18.1525, 15.2830, 13.3200, 14.4668, 16.6780, 12.3408, 15.1469,\n",
       "        15.8965, 16.7888, 12.2327, 19.3119, 15.1816, 15.8303, 14.2133, 17.6272,\n",
       "        15.3198, 16.9651, 17.1349, 15.4828, 16.1471, 14.9969, 14.6499, 15.1652,\n",
       "        17.6275, 20.0753, 15.0739, 16.1107, 17.1967, 15.0115, 17.5640, 14.8224])"
      ]
     },
     "execution_count": 34,
     "metadata": {},
     "output_type": "execute_result"
    }
   ],
   "source": [
    "torch.exp(out).sum(1)"
   ]
  },
  {
   "cell_type": "code",
   "execution_count": 35,
   "metadata": {},
   "outputs": [
    {
     "data": {
      "text/plain": [
       "tensor([[0.0570, 0.0683, 0.1542, 0.0595, 0.1549, 0.1536, 0.0570, 0.1544, 0.0570,\n",
       "         0.0840],\n",
       "        [0.0610, 0.0610, 0.1654, 0.0610, 0.1547, 0.1451, 0.0637, 0.1657, 0.0610,\n",
       "         0.0616],\n",
       "        [0.0660, 0.0660, 0.0662, 0.0660, 0.1794, 0.1794, 0.1755, 0.0694, 0.0660,\n",
       "         0.0661],\n",
       "        [0.0590, 0.0590, 0.0681, 0.0590, 0.1604, 0.1600, 0.1600, 0.1564, 0.0591,\n",
       "         0.0590],\n",
       "        [0.0699, 0.0700, 0.0699, 0.0699, 0.0701, 0.1887, 0.0702, 0.1313, 0.0699,\n",
       "         0.1901],\n",
       "        [0.0692, 0.0711, 0.1529, 0.0692, 0.0984, 0.1411, 0.0704, 0.1873, 0.0692,\n",
       "         0.0713],\n",
       "        [0.0587, 0.0699, 0.1595, 0.0587, 0.1596, 0.1523, 0.0588, 0.1596, 0.0587,\n",
       "         0.0642],\n",
       "        [0.0659, 0.0659, 0.0659, 0.0659, 0.1722, 0.1416, 0.0660, 0.1786, 0.0678,\n",
       "         0.1101],\n",
       "        [0.0656, 0.0656, 0.0707, 0.0657, 0.1784, 0.1784, 0.0659, 0.1784, 0.0656,\n",
       "         0.0656],\n",
       "        [0.0683, 0.0687, 0.1472, 0.0689, 0.1824, 0.1846, 0.0684, 0.0689, 0.0683,\n",
       "         0.0742],\n",
       "        [0.0670, 0.0670, 0.0747, 0.0670, 0.1816, 0.1820, 0.0670, 0.0671, 0.0670,\n",
       "         0.1596],\n",
       "        [0.0704, 0.0718, 0.0704, 0.0704, 0.1912, 0.1907, 0.0746, 0.0713, 0.0704,\n",
       "         0.1189],\n",
       "        [0.0561, 0.0561, 0.1278, 0.0566, 0.1524, 0.1495, 0.1085, 0.1523, 0.0561,\n",
       "         0.0846],\n",
       "        [0.0644, 0.0642, 0.0642, 0.0642, 0.1359, 0.1743, 0.0645, 0.1358, 0.0642,\n",
       "         0.1683],\n",
       "        [0.0648, 0.0648, 0.1712, 0.0649, 0.1761, 0.1675, 0.0649, 0.0675, 0.0648,\n",
       "         0.0934],\n",
       "        [0.0498, 0.1310, 0.1262, 0.0499, 0.1351, 0.1354, 0.1346, 0.1314, 0.0498,\n",
       "         0.0568],\n",
       "        [0.0708, 0.0715, 0.0764, 0.0722, 0.1924, 0.1924, 0.0800, 0.0708, 0.0708,\n",
       "         0.1028],\n",
       "        [0.0632, 0.0634, 0.0635, 0.0645, 0.1717, 0.1717, 0.0638, 0.1714, 0.0632,\n",
       "         0.1037],\n",
       "        [0.0612, 0.0612, 0.1385, 0.0615, 0.1661, 0.1423, 0.0799, 0.1663, 0.0612,\n",
       "         0.0619],\n",
       "        [0.0589, 0.0607, 0.1461, 0.0589, 0.1600, 0.1587, 0.0589, 0.1592, 0.0589,\n",
       "         0.0798],\n",
       "        [0.0687, 0.0796, 0.1107, 0.0688, 0.1860, 0.1865, 0.0702, 0.0702, 0.0687,\n",
       "         0.0907],\n",
       "        [0.0593, 0.0593, 0.0593, 0.0593, 0.1608, 0.1612, 0.0703, 0.1612, 0.0593,\n",
       "         0.1502],\n",
       "        [0.0679, 0.0678, 0.1559, 0.0678, 0.1828, 0.1818, 0.0712, 0.0692, 0.0678,\n",
       "         0.0678],\n",
       "        [0.0737, 0.0737, 0.0737, 0.0737, 0.2001, 0.1168, 0.0738, 0.1663, 0.0737,\n",
       "         0.0747],\n",
       "        [0.0586, 0.0586, 0.0781, 0.0586, 0.0848, 0.1590, 0.1254, 0.1592, 0.0586,\n",
       "         0.1591],\n",
       "        [0.0719, 0.0729, 0.0920, 0.0813, 0.1953, 0.1954, 0.0721, 0.0751, 0.0719,\n",
       "         0.0722],\n",
       "        [0.0638, 0.0633, 0.0633, 0.0633, 0.1718, 0.1700, 0.0633, 0.1127, 0.0633,\n",
       "         0.1652],\n",
       "        [0.0606, 0.0608, 0.1537, 0.0606, 0.1619, 0.1647, 0.0607, 0.1037, 0.0606,\n",
       "         0.1127],\n",
       "        [0.0619, 0.0643, 0.1190, 0.0640, 0.1683, 0.1683, 0.0619, 0.0619, 0.0620,\n",
       "         0.1683],\n",
       "        [0.0616, 0.0625, 0.0747, 0.0616, 0.1509, 0.1674, 0.1104, 0.1473, 0.0616,\n",
       "         0.1021],\n",
       "        [0.0544, 0.1472, 0.0544, 0.0552, 0.1418, 0.1476, 0.0544, 0.1448, 0.0544,\n",
       "         0.1458],\n",
       "        [0.0608, 0.0617, 0.1532, 0.0608, 0.1624, 0.1481, 0.0655, 0.1651, 0.0608,\n",
       "         0.0617],\n",
       "        [0.0646, 0.0646, 0.0824, 0.0646, 0.1757, 0.1748, 0.0681, 0.1752, 0.0646,\n",
       "         0.0653],\n",
       "        [0.0551, 0.1491, 0.1494, 0.0566, 0.1497, 0.1299, 0.0551, 0.1450, 0.0551,\n",
       "         0.0551],\n",
       "        [0.0654, 0.0655, 0.0763, 0.0654, 0.1778, 0.1745, 0.0675, 0.1764, 0.0654,\n",
       "         0.0656],\n",
       "        [0.0751, 0.0814, 0.0845, 0.0751, 0.2041, 0.1763, 0.0751, 0.0782, 0.0751,\n",
       "         0.0751],\n",
       "        [0.0691, 0.1088, 0.1854, 0.0692, 0.1879, 0.0813, 0.0691, 0.0908, 0.0691,\n",
       "         0.0693],\n",
       "        [0.0600, 0.1630, 0.1235, 0.0600, 0.1627, 0.1254, 0.1251, 0.0600, 0.0600,\n",
       "         0.0605],\n",
       "        [0.0812, 0.0934, 0.0814, 0.0810, 0.0883, 0.2203, 0.0811, 0.0876, 0.0812,\n",
       "         0.1046],\n",
       "        [0.0660, 0.0660, 0.0669, 0.0665, 0.1795, 0.1776, 0.0660, 0.1794, 0.0660,\n",
       "         0.0660],\n",
       "        [0.0629, 0.0629, 0.1637, 0.0629, 0.1647, 0.1694, 0.0647, 0.1229, 0.0629,\n",
       "         0.0630],\n",
       "        [0.0596, 0.0718, 0.1472, 0.0596, 0.1619, 0.1584, 0.0596, 0.1617, 0.0596,\n",
       "         0.0606],\n",
       "        [0.0819, 0.0845, 0.0821, 0.0817, 0.1037, 0.2221, 0.0912, 0.0827, 0.0822,\n",
       "         0.0879],\n",
       "        [0.0518, 0.0528, 0.1331, 0.0999, 0.1378, 0.1406, 0.0518, 0.1398, 0.0518,\n",
       "         0.1407],\n",
       "        [0.0659, 0.0659, 0.0680, 0.0659, 0.1790, 0.1786, 0.0659, 0.1655, 0.0659,\n",
       "         0.0794],\n",
       "        [0.0632, 0.0633, 0.1707, 0.0632, 0.1717, 0.1717, 0.0637, 0.1017, 0.0632,\n",
       "         0.0676],\n",
       "        [0.0704, 0.0704, 0.0732, 0.0706, 0.1558, 0.1912, 0.0704, 0.1569, 0.0704,\n",
       "         0.0708],\n",
       "        [0.0567, 0.0567, 0.1517, 0.0567, 0.1539, 0.1540, 0.0568, 0.1520, 0.0567,\n",
       "         0.1048],\n",
       "        [0.0653, 0.0655, 0.0770, 0.0653, 0.1762, 0.1774, 0.0653, 0.1774, 0.0653,\n",
       "         0.0654],\n",
       "        [0.0590, 0.0750, 0.1585, 0.0589, 0.1503, 0.1602, 0.0593, 0.1598, 0.0589,\n",
       "         0.0600],\n",
       "        [0.0584, 0.0584, 0.1329, 0.0584, 0.1581, 0.1586, 0.1031, 0.1553, 0.0584,\n",
       "         0.0585],\n",
       "        [0.0646, 0.0652, 0.0951, 0.0646, 0.1756, 0.1679, 0.0647, 0.1601, 0.0765,\n",
       "         0.0658],\n",
       "        [0.0620, 0.0619, 0.1369, 0.0619, 0.1683, 0.1683, 0.0620, 0.1540, 0.0620,\n",
       "         0.0627],\n",
       "        [0.0667, 0.0667, 0.0675, 0.0667, 0.1813, 0.1792, 0.0667, 0.1719, 0.0667,\n",
       "         0.0667],\n",
       "        [0.0683, 0.0690, 0.0694, 0.0771, 0.1855, 0.1855, 0.0683, 0.1402, 0.0684,\n",
       "         0.0683],\n",
       "        [0.0659, 0.0659, 0.0661, 0.0660, 0.1789, 0.1789, 0.0674, 0.1789, 0.0659,\n",
       "         0.0659],\n",
       "        [0.0567, 0.0567, 0.1392, 0.0567, 0.1542, 0.1542, 0.1169, 0.1518, 0.0567,\n",
       "         0.0567],\n",
       "        [0.0498, 0.1306, 0.1346, 0.1317, 0.1354, 0.1325, 0.0499, 0.1337, 0.0498,\n",
       "         0.0520],\n",
       "        [0.0663, 0.0663, 0.0678, 0.0663, 0.0686, 0.1803, 0.0745, 0.1632, 0.0663,\n",
       "         0.1802],\n",
       "        [0.0621, 0.0621, 0.1213, 0.0629, 0.1687, 0.1682, 0.0622, 0.1684, 0.0621,\n",
       "         0.0621],\n",
       "        [0.0582, 0.0828, 0.1512, 0.0583, 0.1580, 0.1581, 0.0596, 0.0582, 0.0582,\n",
       "         0.1576],\n",
       "        [0.0666, 0.0666, 0.0752, 0.0666, 0.1811, 0.1810, 0.0667, 0.1627, 0.0666,\n",
       "         0.0667],\n",
       "        [0.0569, 0.0569, 0.1111, 0.0569, 0.1546, 0.1513, 0.0569, 0.1548, 0.0569,\n",
       "         0.1435],\n",
       "        [0.0676, 0.0675, 0.1832, 0.0675, 0.1827, 0.1253, 0.0676, 0.1038, 0.0675,\n",
       "         0.0675]])"
      ]
     },
     "execution_count": 35,
     "metadata": {},
     "output_type": "execute_result"
    }
   ],
   "source": [
    "out\n",
    "torch.div(torch.exp(out),torch.exp(out).sum(1).view(-1,1))"
   ]
  },
  {
   "cell_type": "code",
   "execution_count": 36,
   "metadata": {},
   "outputs": [
    {
     "name": "stdout",
     "output_type": "stream",
     "text": [
      "torch.Size([64, 10])\n",
      "tensor([1.0000, 1.0000, 1.0000, 1.0000, 1.0000, 1.0000, 1.0000, 1.0000, 1.0000,\n",
      "        1.0000, 1.0000, 1.0000, 1.0000, 1.0000, 1.0000, 1.0000, 1.0000, 1.0000,\n",
      "        1.0000, 1.0000, 1.0000, 1.0000, 1.0000, 1.0000, 1.0000, 1.0000, 1.0000,\n",
      "        1.0000, 1.0000, 1.0000, 1.0000, 1.0000, 1.0000, 1.0000, 1.0000, 1.0000,\n",
      "        1.0000, 1.0000, 1.0000, 1.0000, 1.0000, 1.0000, 1.0000, 1.0000, 1.0000,\n",
      "        1.0000, 1.0000, 1.0000, 1.0000, 1.0000, 1.0000, 1.0000, 1.0000, 1.0000,\n",
      "        1.0000, 1.0000, 1.0000, 1.0000, 1.0000, 1.0000, 1.0000, 1.0000, 1.0000,\n",
      "        1.0000])\n"
     ]
    }
   ],
   "source": [
    "def softmax(x):\n",
    "    ## TODO: Implement the softmax function here\n",
    "    return torch.div(torch.exp(x),torch.exp(x).sum(1).view(-1,1))\n",
    "\n",
    "# Here, out should be the output of the network in the previous excercise with shape (64,10)\n",
    "probabilities = softmax(out)\n",
    "\n",
    "# Does it have the right shape? Should be (64, 10)\n",
    "print(probabilities.shape)\n",
    "# Does it sum to 1?\n",
    "print(probabilities.sum(dim=1))"
   ]
  },
  {
   "cell_type": "markdown",
   "metadata": {},
   "source": [
    "## Building networks with PyTorch\n",
    "\n",
    "PyTorch provides a module `nn` that makes building networks much simpler. Here I'll show you how to build the same one as above with 784 inputs, 256 hidden units, 10 output units and a softmax output."
   ]
  },
  {
   "cell_type": "code",
   "execution_count": 37,
   "metadata": {},
   "outputs": [],
   "source": [
    "from torch import nn"
   ]
  },
  {
   "cell_type": "code",
   "execution_count": 39,
   "metadata": {},
   "outputs": [],
   "source": [
    "class Network(nn.Module):\n",
    "    def __init__(self):\n",
    "        super().__init__()\n",
    "        \n",
    "        # Inputs to hidden layer linear transformation\n",
    "        self.hidden = nn.Linear(784, 256)\n",
    "        # Output layer, 10 units - one for each digit\n",
    "        self.output = nn.Linear(256, 10)\n",
    "        \n",
    "        # Define sigmoid activation and softmax output \n",
    "        self.sigmoid = nn.Sigmoid()\n",
    "        self.softmax = nn.Softmax(dim=1)\n",
    "        \n",
    "    def forward(self, x):\n",
    "        # Pass the input tensor through each of our operations\n",
    "        x = self.hidden(x)\n",
    "        x = self.sigmoid(x)\n",
    "        x = self.output(x)\n",
    "        x = self.softmax(x)\n",
    "        \n",
    "        return x"
   ]
  },
  {
   "cell_type": "markdown",
   "metadata": {},
   "source": [
    "Let's go through this bit by bit.\n",
    "\n",
    "```python\n",
    "class Network(nn.Module):\n",
    "```\n",
    "\n",
    "Here we're inheriting from `nn.Module`. Combined with `super().__init__()` this creates a class that tracks the architecture and provides a lot of useful methods and attributes. It is mandatory to inherit from `nn.Module` when you're creating a class for your network. The name of the class itself can be anything.\n",
    "\n",
    "```python\n",
    "self.hidden = nn.Linear(784, 256)\n",
    "```\n",
    "\n",
    "This line creates a module for a linear transformation, $x\\mathbf{W} + b$, with 784 inputs and 256 outputs and assigns it to `self.hidden`. The module automatically creates the weight and bias tensors which we'll use in the `forward` method. You can access the weight and bias tensors once the network (`net`) is created with `net.hidden.weight` and `net.hidden.bias`.\n",
    "\n",
    "```python\n",
    "self.output = nn.Linear(256, 10)\n",
    "```\n",
    "\n",
    "Similarly, this creates another linear transformation with 256 inputs and 10 outputs.\n",
    "\n",
    "```python\n",
    "self.sigmoid = nn.Sigmoid()\n",
    "self.softmax = nn.Softmax(dim=1)\n",
    "```\n",
    "\n",
    "Here I defined operations for the sigmoid activation and softmax output. Setting `dim=1` in `nn.Softmax(dim=1)` calculates softmax across the columns.\n",
    "\n",
    "```python\n",
    "def forward(self, x):\n",
    "```\n",
    "\n",
    "PyTorch networks created with `nn.Module` must have a `forward` method defined. It takes in a tensor `x` and passes it through the operations you defined in the `__init__` method.\n",
    "\n",
    "```python\n",
    "x = self.hidden(x)\n",
    "x = self.sigmoid(x)\n",
    "x = self.output(x)\n",
    "x = self.softmax(x)\n",
    "```\n",
    "\n",
    "Here the input tensor `x` is passed through each operation and reassigned to `x`. We can see that the input tensor goes through the hidden layer, then a sigmoid function, then the output layer, and finally the softmax function. It doesn't matter what you name the variables here, as long as the inputs and outputs of the operations match the network architecture you want to build. The order in which you define things in the `__init__` method doesn't matter, but you'll need to sequence the operations correctly in the `forward` method.\n",
    "\n",
    "Now we can create a `Network` object."
   ]
  },
  {
   "cell_type": "code",
   "execution_count": 40,
   "metadata": {},
   "outputs": [
    {
     "data": {
      "text/plain": [
       "Network(\n",
       "  (hidden): Linear(in_features=784, out_features=256, bias=True)\n",
       "  (output): Linear(in_features=256, out_features=10, bias=True)\n",
       "  (sigmoid): Sigmoid()\n",
       "  (softmax): Softmax(dim=1)\n",
       ")"
      ]
     },
     "execution_count": 40,
     "metadata": {},
     "output_type": "execute_result"
    }
   ],
   "source": [
    "# Create the network and look at its text representation\n",
    "model = Network()\n",
    "model"
   ]
  },
  {
   "cell_type": "markdown",
   "metadata": {},
   "source": [
    "You can define the network somewhat more concisely and clearly using the `torch.nn.functional` module. This is the most common way you'll see networks defined as many operations are simple element-wise functions. We normally import this module as `F`, `import torch.nn.functional as F`."
   ]
  },
  {
   "cell_type": "code",
   "execution_count": 41,
   "metadata": {},
   "outputs": [],
   "source": [
    "import torch.nn.functional as F\n",
    "\n",
    "class Network(nn.Module):\n",
    "    def __init__(self):\n",
    "        super().__init__()\n",
    "        # Inputs to hidden layer linear transformation\n",
    "        self.hidden = nn.Linear(784, 256)\n",
    "        # Output layer, 10 units - one for each digit\n",
    "        self.output = nn.Linear(256, 10)\n",
    "        \n",
    "    def forward(self, x):\n",
    "        # Hidden layer with sigmoid activation\n",
    "        x = F.sigmoid(self.hidden(x))\n",
    "        # Output layer with softmax activation\n",
    "        x = F.softmax(self.output(x), dim=1)\n",
    "        \n",
    "        return x"
   ]
  },
  {
   "cell_type": "markdown",
   "metadata": {},
   "source": [
    "### Activation functions\n",
    "\n",
    "So far we've only been looking at the sigmoid activation function, but in general any function can be used as an activation function. The only requirement is that for a network to approximate a non-linear function, the activation functions must be non-linear. Here are a few more examples of common activation functions: Tanh (hyperbolic tangent), and ReLU (rectified linear unit).\n",
    "\n",
    "<img src=\"assets/activation.png\" width=700px>\n",
    "\n",
    "In practice, the ReLU function is used almost exclusively as the activation function for hidden layers."
   ]
  },
  {
   "cell_type": "markdown",
   "metadata": {},
   "source": [
    "### Your Turn to Build a Network\n",
    "\n",
    "<img src=\"assets/mlp_mnist.png\" width=600px>\n",
    "\n",
    "> **Exercise:** Create a network with 784 input units, a hidden layer with 128 units and a ReLU activation, then a hidden layer with 64 units and a ReLU activation, and finally an output layer with a softmax activation as shown above. You can use a ReLU activation with the `nn.ReLU` module or `F.relu` function.\n",
    "\n",
    "It's good practice to name your layers by their type of network, for instance 'fc' to represent a fully-connected layer. As you code your solution, use `fc1`, `fc2`, and `fc3` as your layer names."
   ]
  },
  {
   "cell_type": "code",
   "execution_count": 45,
   "metadata": {
    "scrolled": true
   },
   "outputs": [
    {
     "data": {
      "text/plain": [
       "Network(\n",
       "  (fc1): Linear(in_features=784, out_features=128, bias=True)\n",
       "  (fc2): Linear(in_features=128, out_features=64, bias=True)\n",
       "  (fc3): Linear(in_features=64, out_features=10, bias=True)\n",
       ")"
      ]
     },
     "execution_count": 45,
     "metadata": {},
     "output_type": "execute_result"
    }
   ],
   "source": [
    "## Your solution here\n",
    "import torch.nn.functional as F\n",
    "\n",
    "class Network(nn.Module):\n",
    "    def __init__(self):\n",
    "        super().__init__()\n",
    "        # Inputs to hidden layer linear transformation\n",
    "        self.fc1 = nn.Linear(784, 128)\n",
    "        \n",
    "        self.fc2 = nn.Linear(128, 64)\n",
    "              \n",
    "        # Output layer, 10 units - one for each digit\n",
    "        self.fc3 = nn.Linear(64, 10)\n",
    "        \n",
    "    def forward(self, x):\n",
    "        # Hidden layers with relu activation\n",
    "        x = F.relu(self.fc1(x))\n",
    "        \n",
    "        x = F.relu(self.fc2(x))\n",
    "        \n",
    "        \n",
    "        # Output layer with softmax activation\n",
    "        x = F.softmax(self.fc3(x), dim=1)\n",
    "        \n",
    "        return x\n",
    "model = Network()\n",
    "model"
   ]
  },
  {
   "cell_type": "markdown",
   "metadata": {},
   "source": [
    "### Initializing weights and biases\n",
    "\n",
    "The weights and such are automatically initialized for you, but it's possible to customize how they are initialized. The weights and biases are tensors attached to the layer you defined, you can get them with `model.fc1.weight` for instance."
   ]
  },
  {
   "cell_type": "code",
   "execution_count": 61,
   "metadata": {},
   "outputs": [
    {
     "name": "stdout",
     "output_type": "stream",
     "text": [
      "Parameter containing:\n",
      "tensor([[-0.0087, -0.0008, -0.0070,  ..., -0.0033,  0.0098,  0.0095],\n",
      "        [-0.0136, -0.0027, -0.0023,  ..., -0.0048, -0.0110, -0.0022],\n",
      "        [ 0.0032,  0.0118, -0.0257,  ..., -0.0045, -0.0031, -0.0025],\n",
      "        ...,\n",
      "        [-0.0089,  0.0183, -0.0032,  ...,  0.0122,  0.0075, -0.0203],\n",
      "        [-0.0007, -0.0014,  0.0213,  ...,  0.0072,  0.0097, -0.0082],\n",
      "        [ 0.0020, -0.0098, -0.0238,  ..., -0.0065,  0.0108, -0.0064]],\n",
      "       requires_grad=True)\n",
      "Parameter containing:\n",
      "tensor([0., 0., 0., 0., 0., 0., 0., 0., 0., 0., 0., 0., 0., 0., 0., 0., 0., 0., 0., 0., 0., 0., 0., 0.,\n",
      "        0., 0., 0., 0., 0., 0., 0., 0., 0., 0., 0., 0., 0., 0., 0., 0., 0., 0., 0., 0., 0., 0., 0., 0.,\n",
      "        0., 0., 0., 0., 0., 0., 0., 0., 0., 0., 0., 0., 0., 0., 0., 0., 0., 0., 0., 0., 0., 0., 0., 0.,\n",
      "        0., 0., 0., 0., 0., 0., 0., 0., 0., 0., 0., 0., 0., 0., 0., 0., 0., 0., 0., 0., 0., 0., 0., 0.,\n",
      "        0., 0., 0., 0., 0., 0., 0., 0., 0., 0., 0., 0., 0., 0., 0., 0., 0., 0., 0., 0., 0., 0., 0., 0.,\n",
      "        0., 0., 0., 0., 0., 0., 0., 0.], requires_grad=True)\n"
     ]
    }
   ],
   "source": [
    "print(model.fc1.weight)\n",
    "print(model.fc1.bias)"
   ]
  },
  {
   "cell_type": "markdown",
   "metadata": {},
   "source": [
    "For custom initialization, we want to modify these tensors in place. These are actually autograd *Variables*, so we need to get back the actual tensors with `model.fc1.weight.data`. Once we have the tensors, we can fill them with zeros (for biases) or random normal values."
   ]
  },
  {
   "cell_type": "code",
   "execution_count": 47,
   "metadata": {},
   "outputs": [
    {
     "data": {
      "text/plain": [
       "tensor([0., 0., 0., 0., 0., 0., 0., 0., 0., 0., 0., 0., 0., 0., 0., 0., 0., 0., 0., 0., 0., 0., 0., 0.,\n",
       "        0., 0., 0., 0., 0., 0., 0., 0., 0., 0., 0., 0., 0., 0., 0., 0., 0., 0., 0., 0., 0., 0., 0., 0.,\n",
       "        0., 0., 0., 0., 0., 0., 0., 0., 0., 0., 0., 0., 0., 0., 0., 0., 0., 0., 0., 0., 0., 0., 0., 0.,\n",
       "        0., 0., 0., 0., 0., 0., 0., 0., 0., 0., 0., 0., 0., 0., 0., 0., 0., 0., 0., 0., 0., 0., 0., 0.,\n",
       "        0., 0., 0., 0., 0., 0., 0., 0., 0., 0., 0., 0., 0., 0., 0., 0., 0., 0., 0., 0., 0., 0., 0., 0.,\n",
       "        0., 0., 0., 0., 0., 0., 0., 0.])"
      ]
     },
     "execution_count": 47,
     "metadata": {},
     "output_type": "execute_result"
    }
   ],
   "source": [
    "# Set biases to all zeros\n",
    "model.fc1.bias.data.fill_(0)"
   ]
  },
  {
   "cell_type": "code",
   "execution_count": 60,
   "metadata": {},
   "outputs": [
    {
     "data": {
      "text/plain": [
       "tensor([[-0.0087, -0.0008, -0.0070,  ..., -0.0033,  0.0098,  0.0095],\n",
       "        [-0.0136, -0.0027, -0.0023,  ..., -0.0048, -0.0110, -0.0022],\n",
       "        [ 0.0032,  0.0118, -0.0257,  ..., -0.0045, -0.0031, -0.0025],\n",
       "        ...,\n",
       "        [-0.0089,  0.0183, -0.0032,  ...,  0.0122,  0.0075, -0.0203],\n",
       "        [-0.0007, -0.0014,  0.0213,  ...,  0.0072,  0.0097, -0.0082],\n",
       "        [ 0.0020, -0.0098, -0.0238,  ..., -0.0065,  0.0108, -0.0064]])"
      ]
     },
     "execution_count": 60,
     "metadata": {},
     "output_type": "execute_result"
    }
   ],
   "source": [
    "# sample from random normal with standard dev = 0.01\n",
    "model.fc1.weight.data.normal_(std=0.01)"
   ]
  },
  {
   "cell_type": "markdown",
   "metadata": {},
   "source": [
    "### Forward pass\n",
    "\n",
    "Now that we have a network, let's see what happens when we pass in an image."
   ]
  },
  {
   "cell_type": "code",
   "execution_count": 62,
   "metadata": {},
   "outputs": [
    {
     "data": {
      "image/png": "[encoded data removed]",
      "text/plain": [
       "<Figure size 432x648 with 2 Axes>"
      ]
     },
     "metadata": {
      "image/png": {
       "height": 235,
       "width": 424
      },
      "needs_background": "light"
     },
     "output_type": "display_data"
    }
   ],
   "source": [
    "# Grab some data \n",
    "dataiter = iter(trainloader)\n",
    "images, labels = dataiter.next()\n",
    "\n",
    "# Resize images into a 1D vector, new shape is (batch size, color channels, image pixels) \n",
    "images.resize_(64, 1, 784)\n",
    "# or images.resize_(images.shape[0], 1, 784) to automatically get batch size\n",
    "\n",
    "# Forward pass through the network\n",
    "img_idx = 0\n",
    "ps = model.forward(images[img_idx,:])\n",
    "\n",
    "img = images[img_idx]\n",
    "helper.view_classify(img.view(1, 28, 28), ps)"
   ]
  },
  {
   "cell_type": "markdown",
   "metadata": {},
   "source": [
    "As you can see above, our network has basically no idea what this digit is. It's because we haven't trained it yet, all the weights are random!\n",
    "\n",
    "### Using `nn.Sequential`\n",
    "\n",
    "PyTorch provides a convenient way to build networks like this where a tensor is passed sequentially through operations, `nn.Sequential` ([documentation](https://pytorch.org/docs/master/nn.html#torch.nn.Sequential)). Using this to build the equivalent network:"
   ]
  },
  {
   "cell_type": "code",
   "execution_count": 63,
   "metadata": {},
   "outputs": [
    {
     "name": "stdout",
     "output_type": "stream",
     "text": [
      "Sequential(\n",
      "  (0): Linear(in_features=784, out_features=128, bias=True)\n",
      "  (1): ReLU()\n",
      "  (2): Linear(in_features=128, out_features=64, bias=True)\n",
      "  (3): ReLU()\n",
      "  (4): Linear(in_features=64, out_features=10, bias=True)\n",
      "  (5): Softmax(dim=1)\n",
      ")\n"
     ]
    },
    {
     "data": {
      "image/png": "[encoded data removed]",
      "text/plain": [
       "<Figure size 432x648 with 2 Axes>"
      ]
     },
     "metadata": {
      "image/png": {
       "height": 235,
       "width": 424
      },
      "needs_background": "light"
     },
     "output_type": "display_data"
    }
   ],
   "source": [
    "# Hyperparameters for our network\n",
    "input_size = 784\n",
    "hidden_sizes = [128, 64]\n",
    "output_size = 10\n",
    "\n",
    "# Build a feed-forward network\n",
    "model = nn.Sequential(nn.Linear(input_size, hidden_sizes[0]),\n",
    "                      nn.ReLU(),\n",
    "                      nn.Linear(hidden_sizes[0], hidden_sizes[1]),\n",
    "                      nn.ReLU(),\n",
    "                      nn.Linear(hidden_sizes[1], output_size),\n",
    "                      nn.Softmax(dim=1))\n",
    "print(model)\n",
    "\n",
    "# Forward pass through the network and display output\n",
    "images, labels = next(iter(trainloader))\n",
    "images.resize_(images.shape[0], 1, 784)\n",
    "ps = model.forward(images[0,:])\n",
    "helper.view_classify(images[0].view(1, 28, 28), ps)"
   ]
  },
  {
   "cell_type": "markdown",
   "metadata": {},
   "source": [
    "Here our model is the same as before: 784 input units, a hidden layer with 128 units, ReLU activation, 64 unit hidden layer, another ReLU, then the output layer with 10 units, and the softmax output.\n",
    "\n",
    "The operations are available by passing in the appropriate index. For example, if you want to get first Linear operation and look at the weights, you'd use `model[0]`."
   ]
  },
  {
   "cell_type": "code",
   "execution_count": 66,
   "metadata": {},
   "outputs": [
    {
     "name": "stdout",
     "output_type": "stream",
     "text": [
      "Linear(in_features=784, out_features=128, bias=True)\n"
     ]
    },
    {
     "data": {
      "text/plain": [
       "Parameter containing:\n",
       "tensor([[ 0.0002,  0.0356, -0.0347,  ...,  0.0104,  0.0296,  0.0270],\n",
       "        [ 0.0264,  0.0103, -0.0329,  ..., -0.0085, -0.0183, -0.0268],\n",
       "        [ 0.0299,  0.0096,  0.0108,  ...,  0.0298,  0.0268, -0.0322],\n",
       "        ...,\n",
       "        [-0.0190,  0.0001, -0.0090,  ..., -0.0198, -0.0345,  0.0176],\n",
       "        [ 0.0265,  0.0330, -0.0175,  ...,  0.0271,  0.0184, -0.0161],\n",
       "        [ 0.0235,  0.0116,  0.0105,  ...,  0.0229,  0.0011,  0.0329]],\n",
       "       requires_grad=True)"
      ]
     },
     "execution_count": 66,
     "metadata": {},
     "output_type": "execute_result"
    }
   ],
   "source": [
    "print(model[0])\n",
    "model[0].weight"
   ]
  },
  {
   "cell_type": "markdown",
   "metadata": {},
   "source": [
    "You can also pass in an `OrderedDict` to name the individual layers and operations, instead of using incremental integers. Note that dictionary keys must be unique, so _each operation must have a different name_."
   ]
  },
  {
   "cell_type": "code",
   "execution_count": 67,
   "metadata": {},
   "outputs": [
    {
     "data": {
      "text/plain": [
       "Sequential(\n",
       "  (fc1): Linear(in_features=784, out_features=128, bias=True)\n",
       "  (relu1): ReLU()\n",
       "  (fc2): Linear(in_features=128, out_features=64, bias=True)\n",
       "  (relu2): ReLU()\n",
       "  (output): Linear(in_features=64, out_features=10, bias=True)\n",
       "  (softmax): Softmax(dim=1)\n",
       ")"
      ]
     },
     "execution_count": 67,
     "metadata": {},
     "output_type": "execute_result"
    }
   ],
   "source": [
    "from collections import OrderedDict\n",
    "model = nn.Sequential(OrderedDict([\n",
    "                      ('fc1', nn.Linear(input_size, hidden_sizes[0])),\n",
    "                      ('relu1', nn.ReLU()),\n",
    "                      ('fc2', nn.Linear(hidden_sizes[0], hidden_sizes[1])),\n",
    "                      ('relu2', nn.ReLU()),\n",
    "                      ('output', nn.Linear(hidden_sizes[1], output_size)),\n",
    "                      ('softmax', nn.Softmax(dim=1))]))\n",
    "model"
   ]
  },
  {
   "cell_type": "markdown",
   "metadata": {},
   "source": [
    "Now you can access layers either by integer or the name"
   ]
  },
  {
   "cell_type": "code",
   "execution_count": 68,
   "metadata": {},
   "outputs": [
    {
     "name": "stdout",
     "output_type": "stream",
     "text": [
      "Linear(in_features=784, out_features=128, bias=True)\n",
      "Linear(in_features=784, out_features=128, bias=True)\n"
     ]
    }
   ],
   "source": [
    "print(model[0])\n",
    "print(model.fc1)"
   ]
  },
  {
   "cell_type": "markdown",
   "metadata": {},
   "source": [
    "In the next notebook, we'll see how we can train a neural network to accuractly predict the numbers appearing in the MNIST images."
   ]
  }
 ],
 "metadata": {
  "kernelspec": {
   "display_name": "Python 3 (ipykernel)",
   "language": "python",
   "name": "python3"
  },
  "language_info": {
   "codemirror_mode": {
    "name": "ipython",
    "version": 3
   },
   "file_extension": ".py",
   "mimetype": "text/x-python",
   "name": "python",
   "nbconvert_exporter": "python",
   "pygments_lexer": "ipython3",
   "version": "3.9.7"
  }
 },
 "nbformat": 4,
 "nbformat_minor": 2
}
